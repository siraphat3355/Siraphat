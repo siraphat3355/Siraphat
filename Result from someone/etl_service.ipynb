{
 "cells": [
  {
   "cell_type": "code",
   "execution_count": 761,
   "id": "0b3a28a1",
   "metadata": {},
   "outputs": [],
   "source": [
    "# builtin deps\n",
    "import os\n",
    "import ssl\n",
    "import time\n",
    "import typing as t\n",
    "from pathlib import Path\n",
    "from collections import defaultdict\n",
    "from urllib.request import urlopen, Request\n",
    "\n",
    "# third parties deps\n",
    "import pandas as pd\n",
    "import numpy as np"
   ]
  },
  {
   "cell_type": "markdown",
   "id": "66c78d98",
   "metadata": {},
   "source": [
    "# Load dataset"
   ]
  },
  {
   "cell_type": "markdown",
   "id": "0ecda073",
   "metadata": {},
   "source": [
    "## Load consumption data from csv file to dataframe"
   ]
  },
  {
   "cell_type": "code",
   "execution_count": 762,
   "id": "63251671",
   "metadata": {},
   "outputs": [],
   "source": [
    "os.makedirs(\"./clean_datasets\", exist_ok = True)\n",
    "\n",
    "# path to datasets for visualization\n",
    "DATASETS_DIR = Path(\"./datasets\")\n",
    "CLEAN_DATASETS_DIR = Path(\"./clean_datasets\")\n",
    "\n",
    "# weather file\n",
    "WEATHER_CSV = DATASETS_DIR / \"weather_data.csv\""
   ]
  },
  {
   "cell_type": "code",
   "execution_count": 763,
   "id": "cf0435e7",
   "metadata": {},
   "outputs": [],
   "source": [
    "def load_csvs(src_dir: Path) -> t.Tuple[t.Dict[str, pd.DataFrame], t.List[str]]:\n",
    "    # get all datasets name in a new list\n",
    "    dataset_csvs = list(src_dir.iterdir())\n",
    "\n",
    "    # initiate empty defaultdict\n",
    "    dfs = defaultdict(lambda : pd.DataFrame())\n",
    "\n",
    "    # iterate through the list of csvs and record only the filename (not extension)\n",
    "    # to the default dictionary dfs\n",
    "    for csv in dataset_csvs:\n",
    "        dfs[csv.name.split('.')[0]] = pd.read_csv(csv)\n",
    "\n",
    "    # records filenames to the list\n",
    "    csv_names = list(dfs.keys())\n",
    "    \n",
    "    return dfs, csv_names"
   ]
  },
  {
   "cell_type": "code",
   "execution_count": 766,
   "id": "a93f46b5",
   "metadata": {},
   "outputs": [],
   "source": [
    "dfs, csv_names = load_csvs(DATASETS_DIR)"
   ]
  },
  {
   "cell_type": "code",
   "execution_count": 767,
   "id": "cbe5a2c8",
   "metadata": {},
   "outputs": [
    {
     "name": "stdout",
     "output_type": "stream",
     "text": [
      "All file names\n",
      "---------- \n",
      "meter1_phase1\n",
      "meter1_phase2\n",
      "meter1_phase3\n",
      "meter2_phase1\n",
      "meter2_phase2\n",
      "meter2_phase3\n",
      "people\n",
      "weather_data\n"
     ]
    }
   ],
   "source": [
    "print(\"All file names\\n---------- \", *sorted(csv_names), sep=\"\\n\")"
   ]
  },
  {
   "cell_type": "markdown",
   "id": "ec91d88f",
   "metadata": {},
   "source": [
    "## Load weather data"
   ]
  },
  {
   "cell_type": "markdown",
   "id": "813256bb",
   "metadata": {},
   "source": [
    "The best website for scraping weather data at Chiang Mai that I have found is [scraping path] in [กรมอุตุภาคเหนือ].\n",
    "  \n",
    "\n",
    "Scraping url example:  \n",
    "http://www.aws-observation.tmd.go.th/web/aws/popup_timeseries_tbl.asp?gval=3&id=1&sdate=20201210230100&timewidth=2h&celltime=2  \n",
    "Format:  \n",
    "http://www.aws-observation.tmd.go.th/web/aws/popup_timeseries_tbl.asp?gval=3&id=1&sdate={YYYYMMDDHHmmss}&timewidth={numhour}h&celltime={num_hour_to_be_displayed}  \n",
    "*Note that, the result's time in the table is UTC time, we need to convert to GMT+7 time*\n",
    "  \n",
    "**Mock user agent to access some strictly crawler prevention website**  \n",
    "For mock user agent [mock user] \n",
    "  \n",
    "**Create SSL certification to access https website**  \n",
    "For creating ssl certification in macos python to connect with https [ssl cert]. \n",
    "  \n",
    "**Another resources for TMD data**  \n",
    "data from TMD (not free haha) [กรมอุตุ]  \n",
    "Daily TMD data [accuweather] and [weather.com]\n",
    "  \n",
    "[accuweather]: https://www.accuweather.com/th/th/mueang-chiang-mai/317505/january-weather/317505?year=2020  \n",
    "[weather.com]: https://weather.com/weather/monthly/l/9c4f2b7a834c8555f56c1a4d1f4d4630a84169eda9a08a0c4b947c3de75d7426  \n",
    "[กรมอุตุ]: https://www.tmd.go.th/services/services.php  \n",
    "[กรมอุตุภาคเหนือ]: http://www.cmmet.tmd.go.th/#  \n",
    "[scraping path]: http://www.aws-observation.tmd.go.th/web/weather/weather_calendar.asp  \n",
    "[mock user]: https://medium.com/@speedforcerun/python-crawler-http-error-403-forbidden-1623ae9ba0f#:~:text=It%20possibly%20due%20to%20the,of%20your%20fake%20browser%20visit.  \n",
    "[ssl cert]: https://stackoverflow.com/questions/50236117/scraping-ssl-certificate-verify-failed-error-for-http-en-wikipedia-org\n"
   ]
  },
  {
   "cell_type": "code",
   "execution_count": 108,
   "id": "a20e8a29",
   "metadata": {},
   "outputs": [],
   "source": [
    "URL = \"http://www.aws-observation.tmd.go.th/web/aws/popup_timeseries_tbl.asp?gval=3&id=1&sdate=20201210230100&timewidth=2h&celltime=2\"\n",
    "\n",
    "HEADERS = {\n",
    "    \"User-Agent\": \"Mozilla/5.0 (Windows NT 10.0; Win64; x64) AppleWebKit/537.36 (KHTML, like Gecko) Chrome/70.0.3538.77 Safari/537.36\"\n",
    "}\n",
    "\n",
    "# new column names for weather df\n",
    "NEW_COL_NAMES = ['time', 'prec1m_mm', 'prec15m_mm', 'prec30m_mm', 'prec1h_mm',\n",
    "                 'prec2h_mm', 'prec3h_mm', 'prec6h_mm', 'prec12h_mm', 'prec24h_mm',\n",
    "                 'wd_deg', 'ws_km-h', 'temp_c', 'humi_perc', 'prec_mm', 'pres_hPa', 'vis_m', 'weather']\n"
   ]
  },
  {
   "cell_type": "code",
   "execution_count": 109,
   "id": "b35dc157",
   "metadata": {},
   "outputs": [],
   "source": [
    "\"\"\"\n",
    "Extract transfrom load function\n",
    "\"\"\"\n",
    "def extract(year: str, month: str, date: str, \n",
    "                   hour: str, minute: str = \"01\", sec: str = \"00\", \n",
    "                   timewidth: str = \"1h\", celltime: str = \"1\") -> pd.DataFrame:\n",
    "    # define url\n",
    "    datetime = year + month + date + hour + minute + sec\n",
    "    url = f\"http://www.aws-observation.tmd.go.th/web/aws/\\\n",
    "popup_timeseries_tbl.asp?gval=3&id=1&sdate={datetime}&timewidth={timewidth}&celltime={celltime}\"\n",
    "\n",
    "    # GET request with header and retrieve html from website\n",
    "    req = Request(url=url, headers=HEADERS) \n",
    "    html = urlopen(req).read()\n",
    "    \n",
    "    # since html website return html's table format, \n",
    "    # we can use read_html to convert html to dataframe directly\n",
    "    weather_df = pd.read_html(html)[0]\n",
    "    \n",
    "    return weather_df\n",
    "    \n",
    "\n",
    "def transform(df: pd.DataFrame, year: str, month: str, date: str) -> pd.DataFrame:\n",
    "    \n",
    "    target = df.copy()\n",
    "    \n",
    "    # change weather columns name\n",
    "    target.columns = NEW_COL_NAMES\n",
    "    \n",
    "    # convert 24:00 to 00:00 (to conform to pandas format) and append its date\n",
    "    target[\"time\"].loc[target.copy()[\"time\"] == \"24:00\"] = \"00:00\"\n",
    "    target[\"datetime\"] = pd.to_datetime(\"-\".join([year, month, date]) + \" \" + target[\"time\"])\n",
    "    \n",
    "    # convert UTC to GMT+7\n",
    "    target[\"datetime\"] = target[\"datetime\"] + pd.to_timedelta(7, \"h\")\n",
    "    target = target.drop(columns=['time'])\n",
    "    \n",
    "    return target\n",
    "\n",
    "\n",
    "def load(df: pd.DataFrame, file: Path):\n",
    "    '''Append to the existing csv'''\n",
    "    if file.exists():\n",
    "        df.to_csv(file, mode=\"a\", header=False, index=False)\n",
    "    else:\n",
    "        df.to_csv(file, index=False)    \n",
    "    \n",
    "def etl(year: str, month: str, date: str, \n",
    "                   hour: str, minute: str = '01', sec: str = '00', \n",
    "                   timewidth: str = 1, celltime: str = 1):\n",
    "\n",
    "    weather_df = extract(year, month, date, hour, minute, sec, timewidth, celltime)\n",
    "    weather_tf_df = transform(weather_df, year, month, date)\n",
    "    load(weather_tf_df, WEATHER_CSV)"
   ]
  },
  {
   "cell_type": "code",
   "execution_count": 110,
   "id": "c45db2bb",
   "metadata": {},
   "outputs": [],
   "source": [
    "\"\"\"\n",
    "iterate each hour and apply etl to query weather data\n",
    "\"\"\"\n",
    "def get_daily_weather_data_loop_hourly(from_date, to_date):\n",
    "    \n",
    "    assert from_date < to_date, \"from_date must less than or equal to_date!\"\n",
    "    \n",
    "    # adjust the starting time to be fetched at 17:00 UTC time\n",
    "    cur_date = from_date + pd.to_timedelta(-7, \"h\")\n",
    "    num_hours = int((to_date - from_date).days*24)\n",
    "    \n",
    "    for i in range(1, num_hours+1):\n",
    "        \n",
    "        # ETL weather data 1 hour per call\n",
    "        etl(f\"{cur_date.year}\",f\"{cur_date.month:02d}\", f\"{cur_date.day:02d}\", \n",
    "            hour = f\"{cur_date.hour:02d}\", timewidth=\"1h\", celltime=\"1\")\n",
    "        \n",
    "        if i % 24 == 0: print(f\"Loaded weather data on: {cur_date}\")\n",
    "            \n",
    "        cur_date = from_date + pd.to_timedelta(i, \"h\")\n",
    "            \n",
    "        # sleep 2 second for every request to prevent rate limiting\n",
    "        # 30 request per minute\n",
    "        time.sleep(2)"
   ]
  },
  {
   "cell_type": "markdown",
   "id": "9b65ca6a",
   "metadata": {},
   "source": [
    "### Extract transform and load weather data from API to csv file  \n",
    "*Shouldn't be run carelessly*"
   ]
  },
  {
   "cell_type": "code",
   "execution_count": 111,
   "id": "3db20988",
   "metadata": {},
   "outputs": [],
   "source": [
    "# from_date = pd.to_datetime('2020-12-03')\n",
    "# to_date = pd.to_datetime('2021-01-13')\n",
    "\n",
    "# get_daily_weather_data_loop_hourly(from_date, to_date)"
   ]
  },
  {
   "cell_type": "markdown",
   "id": "8dcc913d",
   "metadata": {},
   "source": [
    "### Load weather data from csv file to dataframe"
   ]
  },
  {
   "cell_type": "code",
   "execution_count": 768,
   "id": "32757fa5",
   "metadata": {},
   "outputs": [],
   "source": [
    "dfs['weather'] = pd.read_csv(\n",
    "    WEATHER_CSV, \n",
    "    usecols=['datetime', 'temp_c', 'humi_perc'], \n",
    "    dtype={\n",
    "        'temp_c':float,\n",
    "        'humi_parc': float\n",
    "    },\n",
    "    na_values='-' # NA values of the weather data is '-'\n",
    ")\n",
    "\n",
    "dfs['weather'] = dfs['weather'].rename(columns={'datetime':'timestamp'})\n",
    "csv_names = list(dfs.keys())"
   ]
  },
  {
   "cell_type": "code",
   "execution_count": 769,
   "id": "98815c8f",
   "metadata": {},
   "outputs": [
    {
     "data": {
      "text/plain": [
       "['meter1_phase1',\n",
       " 'meter1_phase2',\n",
       " 'meter1_phase3',\n",
       " 'people',\n",
       " 'weather_data',\n",
       " 'meter2_phase1',\n",
       " 'meter2_phase3',\n",
       " 'meter2_phase2',\n",
       " 'weather']"
      ]
     },
     "execution_count": 769,
     "metadata": {},
     "output_type": "execute_result"
    }
   ],
   "source": [
    "csv_names"
   ]
  },
  {
   "cell_type": "markdown",
   "id": "685d1539",
   "metadata": {},
   "source": [
    "# Observe completeness of the data"
   ]
  },
  {
   "cell_type": "markdown",
   "id": "6a636a8e",
   "metadata": {},
   "source": [
    "## Info"
   ]
  },
  {
   "cell_type": "code",
   "execution_count": 770,
   "id": "ab667ac9",
   "metadata": {
    "scrolled": true
   },
   "outputs": [
    {
     "name": "stdout",
     "output_type": "stream",
     "text": [
      "meter1_phase1\n",
      "*==================*\n",
      "<class 'pandas.core.frame.DataFrame'>\n",
      "RangeIndex: 72446 entries, 0 to 72445\n",
      "Data columns (total 10 columns):\n",
      "timestamp                  72446 non-null object\n",
      "energy_reactive            72446 non-null float64\n",
      "current                    72446 non-null float64\n",
      "power_reactive             72446 non-null float64\n",
      "energy_reactive_to_grid    72446 non-null float64\n",
      "voltage                    72446 non-null float64\n",
      "energy                     72446 non-null float64\n",
      "energy_to_grid             72446 non-null int64\n",
      "power                      72446 non-null float64\n",
      "power_factor               72446 non-null float64\n",
      "dtypes: float64(8), int64(1), object(1)\n",
      "memory usage: 5.5+ MB\n",
      "None\n",
      "\n",
      "meter1_phase2\n",
      "*==================*\n",
      "<class 'pandas.core.frame.DataFrame'>\n",
      "RangeIndex: 3661 entries, 0 to 3660\n",
      "Data columns (total 6 columns):\n",
      "timestamp         3661 non-null object\n",
      "current           3661 non-null float64\n",
      "power_reactive    3661 non-null float64\n",
      "voltage           3661 non-null float64\n",
      "power             3661 non-null float64\n",
      "power_factor      3661 non-null float64\n",
      "dtypes: float64(5), object(1)\n",
      "memory usage: 171.7+ KB\n",
      "None\n",
      "\n",
      "meter1_phase3\n",
      "*==================*\n",
      "<class 'pandas.core.frame.DataFrame'>\n",
      "RangeIndex: 68595 entries, 0 to 68594\n",
      "Data columns (total 6 columns):\n",
      "timestamp         68595 non-null object\n",
      "current           68595 non-null float64\n",
      "power_reactive    68595 non-null float64\n",
      "voltage           68595 non-null float64\n",
      "power             68595 non-null float64\n",
      "power_factor      68595 non-null float64\n",
      "dtypes: float64(5), object(1)\n",
      "memory usage: 3.1+ MB\n",
      "None\n",
      "\n",
      "people\n",
      "*==================*\n",
      "<class 'pandas.core.frame.DataFrame'>\n",
      "RangeIndex: 3629 entries, 0 to 3628\n",
      "Data columns (total 5 columns):\n",
      "datetime    3629 non-null object\n",
      "zone1       3629 non-null int64\n",
      "zone2       3629 non-null int64\n",
      "zone3       3629 non-null int64\n",
      "zone4       3629 non-null int64\n",
      "dtypes: int64(4), object(1)\n",
      "memory usage: 141.9+ KB\n",
      "None\n",
      "\n",
      "weather_data\n",
      "*==================*\n",
      "<class 'pandas.core.frame.DataFrame'>\n",
      "RangeIndex: 59100 entries, 0 to 59099\n",
      "Data columns (total 18 columns):\n",
      "prec1m_mm     59100 non-null object\n",
      "prec15m_mm    59100 non-null object\n",
      "prec30m_mm    59100 non-null object\n",
      "prec1h_mm     59100 non-null object\n",
      "prec2h_mm     59100 non-null object\n",
      "prec3h_mm     59100 non-null object\n",
      "prec6h_mm     59100 non-null object\n",
      "prec12h_mm    59100 non-null object\n",
      "prec24h_mm    59100 non-null object\n",
      "wd_deg        59100 non-null object\n",
      "ws_km-h       59100 non-null object\n",
      "temp_c        59100 non-null object\n",
      "humi_perc     59100 non-null object\n",
      "prec_mm       59100 non-null object\n",
      "pres_hPa      59100 non-null object\n",
      "vis_m         59100 non-null object\n",
      "weather       59100 non-null object\n",
      "datetime      59100 non-null object\n",
      "dtypes: object(18)\n",
      "memory usage: 8.1+ MB\n",
      "None\n",
      "\n",
      "meter2_phase1\n",
      "*==================*\n",
      "<class 'pandas.core.frame.DataFrame'>\n",
      "RangeIndex: 73191 entries, 0 to 73190\n",
      "Data columns (total 10 columns):\n",
      "timestamp                  73191 non-null object\n",
      "energy_reactive            73191 non-null float64\n",
      "current                    73191 non-null float64\n",
      "power_reactive             73191 non-null float64\n",
      "energy_reactive_to_grid    73191 non-null float64\n",
      "voltage                    73191 non-null float64\n",
      "energy                     73191 non-null float64\n",
      "energy_to_grid             73191 non-null int64\n",
      "power                      73191 non-null float64\n",
      "power_factor               73191 non-null float64\n",
      "dtypes: float64(8), int64(1), object(1)\n",
      "memory usage: 5.6+ MB\n",
      "None\n",
      "\n",
      "meter2_phase3\n",
      "*==================*\n",
      "<class 'pandas.core.frame.DataFrame'>\n",
      "RangeIndex: 26600 entries, 0 to 26599\n",
      "Data columns (total 6 columns):\n",
      "timestamp         26600 non-null object\n",
      "current           26600 non-null float64\n",
      "power_reactive    26600 non-null float64\n",
      "voltage           26600 non-null float64\n",
      "power             26600 non-null float64\n",
      "power_factor      26600 non-null float64\n",
      "dtypes: float64(5), object(1)\n",
      "memory usage: 1.2+ MB\n",
      "None\n",
      "\n",
      "meter2_phase2\n",
      "*==================*\n",
      "<class 'pandas.core.frame.DataFrame'>\n",
      "RangeIndex: 73186 entries, 0 to 73185\n",
      "Data columns (total 6 columns):\n",
      "timestamp         73186 non-null object\n",
      "current           73186 non-null float64\n",
      "power_reactive    73186 non-null float64\n",
      "voltage           73186 non-null float64\n",
      "power             73186 non-null float64\n",
      "power_factor      73186 non-null float64\n",
      "dtypes: float64(5), object(1)\n",
      "memory usage: 3.4+ MB\n",
      "None\n",
      "\n",
      "weather\n",
      "*==================*\n",
      "<class 'pandas.core.frame.DataFrame'>\n",
      "RangeIndex: 59100 entries, 0 to 59099\n",
      "Data columns (total 3 columns):\n",
      "temp_c       59095 non-null float64\n",
      "humi_perc    59095 non-null float64\n",
      "timestamp    59100 non-null object\n",
      "dtypes: float64(2), object(1)\n",
      "memory usage: 1.4+ MB\n",
      "None\n",
      "\n"
     ]
    }
   ],
   "source": [
    "for csv in csv_names:\n",
    "    print(csv, end='\\n*==================*\\n')\n",
    "    print(dfs[csv].info(), end=\"\\n\\n\")"
   ]
  },
  {
   "cell_type": "markdown",
   "id": "145b5c50",
   "metadata": {},
   "source": [
    "## describe the data"
   ]
  },
  {
   "cell_type": "code",
   "execution_count": 771,
   "id": "135e0923",
   "metadata": {},
   "outputs": [
    {
     "name": "stdout",
     "output_type": "stream",
     "text": [
      "meter1_phase1\n",
      "*==================*\n",
      "       energy_reactive       current  power_reactive  energy_reactive_to_grid  \\\n",
      "count     72446.000000  72446.000000    72446.000000             72446.000000   \n",
      "mean      37369.768315     16.497044       -1.351647              7364.072086   \n",
      "std          74.605142      8.950949        0.781349               279.621576   \n",
      "min       37268.031250      0.227977       -4.071399              6832.749023   \n",
      "25%       37288.490234     10.244700       -1.852476              7086.360840   \n",
      "50%       37375.402344     15.958839       -1.458420              7395.241455   \n",
      "75%       37431.357422     21.858104       -1.085153              7645.033203   \n",
      "max       37485.367188     57.309692        4.133070              7696.834961   \n",
      "\n",
      "            voltage         energy  energy_to_grid         power  power_factor  \n",
      "count  72446.000000   72446.000000         72446.0  72446.000000  72446.000000  \n",
      "mean     404.743728  143093.745012             0.0      3.545585      0.910447  \n",
      "std        2.777602    1764.910862             0.0      1.990561      0.057116  \n",
      "min      395.124176  140042.203125             0.0      0.037927      0.273787  \n",
      "25%      402.835129  141292.316406             0.0      2.064173      0.893990  \n",
      "50%      404.889435  143196.015625             0.0      3.401520      0.927719  \n",
      "75%      406.634087  144810.968750             0.0      4.727881      0.947730  \n",
      "max      414.269165  145398.203125             0.0     13.009340      0.998873  \n",
      "\n",
      "meter1_phase2\n",
      "*==================*\n",
      "           current  power_reactive      voltage        power  power_factor\n",
      "count  3661.000000     3661.000000  3661.000000  3661.000000   3661.000000\n",
      "mean     11.687494       -0.424476   406.416932     2.474366      0.885416\n",
      "std       4.707671        1.099562     2.159346     1.122269      0.061645\n",
      "min       4.684764       -1.940629   399.149231     0.741511      0.619423\n",
      "25%       8.206599       -1.229834   405.103821     1.691628      0.863454\n",
      "50%      10.406590       -0.913907   406.831909     2.182081      0.900789\n",
      "75%      14.262804        0.919748   408.026184     3.064579      0.926622\n",
      "max      36.134888        2.674894   411.263702     8.328464      0.982838\n",
      "\n",
      "meter1_phase3\n",
      "*==================*\n",
      "            current  power_reactive       voltage         power  power_factor\n",
      "count  68595.000000    68595.000000  68595.000000  68595.000000  68595.000000\n",
      "mean      14.332170        0.249027    405.062846      3.101900      0.879386\n",
      "std        7.547825        1.366954      2.327502      1.689218      0.148826\n",
      "min        0.327257       -4.520682    396.635590      0.001317      0.013576\n",
      "25%        9.635582       -0.987229    403.499695      2.049400      0.897541\n",
      "50%       14.047566        0.826018    405.230438      3.058063      0.921938\n",
      "75%       18.540472        1.238304    406.716156      4.117169      0.942426\n",
      "max       47.303078        4.368404    412.876282     10.299599      0.992096\n",
      "\n",
      "people\n",
      "*==================*\n",
      "             zone1        zone2        zone3        zone4\n",
      "count  3629.000000  3629.000000  3629.000000  3629.000000\n",
      "mean      1.892257     0.721135     0.086525     3.232571\n",
      "std       2.261006     1.399499     0.419623     2.135805\n",
      "min       0.000000     0.000000     0.000000     0.000000\n",
      "25%       0.000000     0.000000     0.000000     2.000000\n",
      "50%       2.000000     0.000000     0.000000     2.000000\n",
      "75%       2.000000     2.000000     0.000000     4.000000\n",
      "max      19.000000    10.000000     4.000000    15.000000\n",
      "\n",
      "weather_data\n",
      "*==================*\n",
      "       prec1m_mm prec15m_mm prec30m_mm prec1h_mm prec2h_mm prec3h_mm  \\\n",
      "count      59100      59100      59100     59100     59100     59100   \n",
      "unique         3          3          3         3         3         3   \n",
      "top            0          0          0         0         0         0   \n",
      "freq       32763      32763      32763     32763     32763     32763   \n",
      "\n",
      "       prec6h_mm prec12h_mm prec24h_mm wd_deg ws_km-h temp_c humi_perc  \\\n",
      "count      59100      59100      59100  59100   59100  59100     59100   \n",
      "unique         3          3          3     18      92    413       141   \n",
      "top            0          0          0   CALM       -   20.4        92   \n",
      "freq       32763      32763      32763  38991    8922    406      1252   \n",
      "\n",
      "       prec_mm pres_hPa  vis_m           weather         datetime  \n",
      "count    59100    59100  59100             59100            59100  \n",
      "unique       3      246   9861                 2            59100  \n",
      "top          0    976.7  20000  No Precipitation  10/1/2021 04:25  \n",
      "freq     32763      696  34588             59095                1  \n",
      "\n",
      "meter2_phase1\n",
      "*==================*\n",
      "       energy_reactive       current  power_reactive  energy_reactive_to_grid  \\\n",
      "count     73191.000000  73191.000000    73191.000000                73191.000   \n",
      "mean     194222.540280     55.842293        7.414132                    3.751   \n",
      "std        3962.454006     26.475968        2.760013                    0.000   \n",
      "min      187257.859375      3.543257        0.638230                    3.751   \n",
      "25%      190339.179688     33.696363        5.131650                    3.751   \n",
      "50%      194353.375000     53.271759        7.315420                    3.751   \n",
      "75%      197966.226562     77.264900        9.918839                    3.751   \n",
      "max      200067.828125    138.142838       14.190213                    3.751   \n",
      "\n",
      "            voltage         energy  energy_to_grid         power  power_factor  \n",
      "count  73191.000000   73191.000000         73191.0  73191.000000  73191.000000  \n",
      "mean     404.683661  314140.245024             0.0     10.561318      0.784935  \n",
      "std        2.781364    5367.004554             0.0      5.600078      0.075117  \n",
      "min      395.034485  304477.375000             0.0      0.518257      0.560988  \n",
      "25%      402.778839  308791.671875             0.0      5.971071      0.736506  \n",
      "50%      404.831787  314542.812500             0.0      9.933748      0.798256  \n",
      "75%      406.571045  319295.000000             0.0     14.888702      0.843693  \n",
      "max      414.252106  321474.781250             0.0     28.847925      0.948865  \n",
      "\n",
      "meter2_phase3\n",
      "*==================*\n",
      "            current  power_reactive       voltage         power  power_factor\n",
      "count  26600.000000    26600.000000  26600.000000  26600.000000  26600.000000\n",
      "mean      57.721183        8.383636    404.592968     10.557745      0.773678\n",
      "std       13.147385        1.492196      2.453622      2.841490      0.045485\n",
      "min       23.170055        4.114682    396.475372      3.515830      0.649438\n",
      "25%       48.950317        7.190837    402.747665      8.369435      0.741917\n",
      "50%       57.877773        8.729086    404.920410     10.442631      0.776534\n",
      "75%       66.648863        9.291080    406.430771     12.595311      0.805630\n",
      "max      100.165863       13.544402    411.202515     19.885048      0.924368\n",
      "\n",
      "meter2_phase2\n",
      "*==================*\n",
      "            current  power_reactive       voltage         power  power_factor\n",
      "count  73186.000000    73186.000000  73186.000000  73186.000000  73186.000000\n",
      "mean      48.061146        6.852609    406.882854      8.912159      0.767350\n",
      "std       19.008795        2.162260      2.322057      4.039668      0.070197\n",
      "min        3.150661        0.564958    398.800842      0.466989      0.522126\n",
      "25%       33.820503        5.157851    405.309303      5.755577      0.726927\n",
      "50%       47.939371        6.820582    407.095795      8.610223      0.782072\n",
      "75%       63.298006        8.714744    408.530571     12.040092      0.818005\n",
      "max      108.799606       12.125039    414.302124     22.493608      0.928640\n",
      "\n",
      "weather\n",
      "*==================*\n",
      "             temp_c     humi_perc\n",
      "count  59095.000000  59095.000000\n",
      "mean      22.785550     66.796379\n",
      "std        5.016618     17.602803\n",
      "min       12.700000     22.000000\n",
      "25%       18.900000     52.000000\n",
      "50%       22.100000     68.000000\n",
      "75%       26.500000     83.000000\n",
      "max       34.300000     94.000000\n",
      "\n"
     ]
    }
   ],
   "source": [
    "for csv in csv_names:\n",
    "    print(csv, end='\\n*==================*\\n')\n",
    "    print(dfs[csv].describe(), end=\"\\n\\n\")"
   ]
  },
  {
   "cell_type": "markdown",
   "id": "9e5799b3",
   "metadata": {},
   "source": [
    "## Show head of the data frame"
   ]
  },
  {
   "cell_type": "code",
   "execution_count": 772,
   "id": "c45d9964",
   "metadata": {
    "scrolled": true
   },
   "outputs": [
    {
     "name": "stdout",
     "output_type": "stream",
     "text": [
      "meter1_phase1\n",
      "*==================*\n",
      "             timestamp  energy_reactive    current  power_reactive  \\\n",
      "0  2020-12-19 00:00:27      37268.03125  24.109783       -1.756851   \n",
      "1  2020-12-19 00:00:57      37268.03125  24.554781       -1.800468   \n",
      "2  2020-12-19 00:01:27      37268.03125  16.898428       -1.738132   \n",
      "3  2020-12-19 00:01:57      37268.03125  16.988962       -1.746844   \n",
      "4  2020-12-19 00:02:28      37268.03125  17.363531       -1.746971   \n",
      "\n",
      "   energy_reactive_to_grid     voltage         energy  energy_to_grid  \\\n",
      "0              6832.749023  403.224792  140042.203125               0   \n",
      "1              6832.780762  402.509125  140042.296875               0   \n",
      "2              6832.790039  402.380371  140042.406250               0   \n",
      "3              6832.799805  402.881500  140042.500000               0   \n",
      "4              6832.809082  402.580475  140042.593750               0   \n",
      "\n",
      "      power  power_factor  \n",
      "0  5.314347      0.949463  \n",
      "1  5.400183      0.948662  \n",
      "2  3.506593      0.895972  \n",
      "3  3.533533      0.896440  \n",
      "4  3.625191      0.900855  \n",
      "meter1_phase2\n",
      "*==================*\n",
      "             timestamp   current  power_reactive     voltage     power  \\\n",
      "0  2020-12-19 00:00:27  7.570304       -1.107324  404.878174  1.379713   \n",
      "1  2020-12-19 00:00:57  8.241071       -0.948996  404.254974  1.672707   \n",
      "2  2020-12-19 00:01:27  8.423661       -0.948810  403.795898  1.718132   \n",
      "3  2020-12-19 00:01:57  8.384118       -0.945778  404.045654  1.711099   \n",
      "4  2020-12-19 00:02:28  8.358814       -0.948686  403.651855  1.701087   \n",
      "\n",
      "   power_factor  \n",
      "0      0.779888  \n",
      "1      0.869770  \n",
      "2      0.875389  \n",
      "3      0.875205  \n",
      "4      0.873363  \n",
      "meter1_phase3\n",
      "*==================*\n",
      "             timestamp    current  power_reactive     voltage     power  \\\n",
      "0  2020-12-19 00:00:27  23.193745       -1.556571  403.072998  5.186693   \n",
      "1  2020-12-19 00:00:57  24.616663        1.599332  402.168488  5.504138   \n",
      "2  2020-12-19 00:01:27  23.806038        1.539057  401.910919  5.327560   \n",
      "3  2020-12-19 00:01:57  24.504057        1.532792  401.941925  5.494409   \n",
      "4  2020-12-19 00:02:28  23.905201        1.516574  401.797882  5.352803   \n",
      "\n",
      "   power_factor  \n",
      "0      0.957798  \n",
      "1      0.960283  \n",
      "2      0.960715  \n",
      "3      0.963220  \n",
      "4      0.962129  \n",
      "people\n",
      "*==================*\n",
      "              datetime  zone1  zone2  zone3  zone4\n",
      "0  2020-12-15 22:01:44      0      2      0      3\n",
      "1  2020-12-15 22:03:32      0      0      0      3\n",
      "2  2020-12-15 22:05:09      0      0      0      4\n",
      "3  2020-12-15 22:06:45      0      0      0      4\n",
      "4  2020-12-15 22:08:15      0      0      0      2\n",
      "weather_data\n",
      "*==================*\n",
      "  prec1m_mm prec15m_mm prec30m_mm prec1h_mm prec2h_mm prec3h_mm prec6h_mm  \\\n",
      "0         0          0          0         0         0         0         0   \n",
      "1         0          0          0         0         0         0         0   \n",
      "2         0          0          0         0         0         0         0   \n",
      "3         0          0          0         0         0         0         0   \n",
      "4         0          0          0         0         0         0         0   \n",
      "\n",
      "  prec12h_mm prec24h_mm wd_deg ws_km-h temp_c humi_perc prec_mm pres_hPa  \\\n",
      "0          0          0      -       -   19.3        91       0    978.3   \n",
      "1          0          0      -       -   19.3        91       0    978.3   \n",
      "2          0          0      -       -   19.3        91       0    978.3   \n",
      "3          0          0      -       -   19.3        91       0    978.3   \n",
      "4          0          0      -       -   19.3        91       0    978.3   \n",
      "\n",
      "   vis_m           weather         datetime  \n",
      "0  12606  No Precipitation  3/12/2020 07:01  \n",
      "1  13631  No Precipitation  3/12/2020 07:02  \n",
      "2  13345  No Precipitation  3/12/2020 07:03  \n",
      "3  13840  No Precipitation  3/12/2020 07:04  \n",
      "4  13512  No Precipitation  3/12/2020 07:05  \n",
      "meter2_phase1\n",
      "*==================*\n",
      "             timestamp  energy_reactive    current  power_reactive  \\\n",
      "0  2020-12-19 00:00:28    187257.859375  46.376160        6.115266   \n",
      "1  2020-12-19 00:00:58    187258.000000  45.916630        6.026616   \n",
      "2  2020-12-19 00:01:28    187258.156250  46.059536        6.043623   \n",
      "3  2020-12-19 00:01:58    187258.312500  45.957317        6.053225   \n",
      "4  2020-12-19 00:02:28    187258.500000  46.310089        6.053617   \n",
      "\n",
      "   energy_reactive_to_grid     voltage        energy  energy_to_grid  \\\n",
      "0                    3.751  403.182678  304477.37500               0   \n",
      "1                    3.751  402.299805  304477.59375               0   \n",
      "2                    3.751  402.213531  304477.81250               0   \n",
      "3                    3.751  402.852936  304478.06250               0   \n",
      "4                    3.751  402.497437  304478.28125               0   \n",
      "\n",
      "      power  power_factor  \n",
      "0  8.864139      0.823123  \n",
      "1  8.771496      0.824208  \n",
      "2  8.787600      0.823948  \n",
      "3  8.780487      0.823313  \n",
      "4  8.861391      0.825717  \n",
      "meter2_phase3\n",
      "*==================*\n",
      "             timestamp    current  power_reactive     voltage     power  \\\n",
      "0  2020-12-19 00:00:28  45.862534        6.191514  402.989929  8.733778   \n",
      "1  2020-12-19 00:00:58  45.480644        6.120595  401.904205  8.632033   \n",
      "2  2020-12-19 00:01:28  38.736042        5.679852  401.747833  7.006610   \n",
      "3  2020-12-19 00:01:58  46.815147        6.975925  401.883301  8.369174   \n",
      "4  2020-12-19 00:02:28  46.761135        6.984410  401.691589  8.341872   \n",
      "\n",
      "   power_factor  \n",
      "0      0.815800  \n",
      "1      0.815746  \n",
      "2      0.776820  \n",
      "3      0.768148  \n",
      "4      0.766734  \n",
      "meter2_phase2\n",
      "*==================*\n",
      "             timestamp    current  power_reactive     voltage      power  \\\n",
      "0  2020-12-19 00:00:28  48.543209        6.662888  404.783813   9.173263   \n",
      "1  2020-12-19 00:00:58  48.687153        6.633106  404.020721   9.213596   \n",
      "2  2020-12-19 00:01:28  54.090363        7.227725  403.636810  10.315261   \n",
      "3  2020-12-19 00:01:58  49.379089        6.871151  403.994324   9.235799   \n",
      "4  2020-12-19 00:02:28  49.300137        6.828547  403.614258   9.235237   \n",
      "\n",
      "   power_factor  \n",
      "0      0.809096  \n",
      "1      0.811563  \n",
      "2      0.818969  \n",
      "3      0.802316  \n",
      "4      0.804072  \n",
      "weather\n",
      "*==================*\n",
      "   temp_c  humi_perc        timestamp\n",
      "0    19.3       91.0  3/12/2020 07:01\n",
      "1    19.3       91.0  3/12/2020 07:02\n",
      "2    19.3       91.0  3/12/2020 07:03\n",
      "3    19.3       91.0  3/12/2020 07:04\n",
      "4    19.3       91.0  3/12/2020 07:05\n"
     ]
    }
   ],
   "source": [
    "for csv in csv_names:\n",
    "    print(csv, end='\\n*==================*\\n')\n",
    "    print(dfs[csv].head())"
   ]
  },
  {
   "cell_type": "markdown",
   "id": "795fad55",
   "metadata": {},
   "source": [
    "## Number of entries"
   ]
  },
  {
   "cell_type": "code",
   "execution_count": 773,
   "id": "771b4153",
   "metadata": {
    "scrolled": true
   },
   "outputs": [
    {
     "name": "stdout",
     "output_type": "stream",
     "text": [
      "meter1_phase1\n",
      " number of entries: 72446\n",
      "\n",
      "meter1_phase2\n",
      " number of entries: 3661\n",
      "\n",
      "meter1_phase3\n",
      " number of entries: 68595\n",
      "\n",
      "people\n",
      " number of entries: 3629\n",
      "\n",
      "weather_data\n",
      " number of entries: 59100\n",
      "\n",
      "meter2_phase1\n",
      " number of entries: 73191\n",
      "\n",
      "meter2_phase3\n",
      " number of entries: 26600\n",
      "\n",
      "meter2_phase2\n",
      " number of entries: 73186\n",
      "\n",
      "weather\n",
      " number of entries: 59100\n",
      "\n"
     ]
    }
   ],
   "source": [
    "for csv in csv_names:\n",
    "    print(f\"{csv}\\n\", \"number of entries:\", len(dfs[csv]), end=\"\\n\\n\")"
   ]
  },
  {
   "cell_type": "markdown",
   "id": "5a77ae34",
   "metadata": {},
   "source": [
    "## range of the data"
   ]
  },
  {
   "cell_type": "code",
   "execution_count": 774,
   "id": "57f9cbce",
   "metadata": {},
   "outputs": [],
   "source": [
    "def print_range_of_timeseries(dfs):\n",
    "    for key in dfs:\n",
    "        print(key)\n",
    "        field = 'timestamp' if 'timestamp' in dfs[key].columns else 'datetime'\n",
    "        fr, to = dfs[key][field].iloc[0], dfs[key][field].iloc[-1]\n",
    "    \n",
    "        print(f'from: {fr} - to: {to}', end='\\n\\n')"
   ]
  },
  {
   "cell_type": "code",
   "execution_count": 775,
   "id": "0c876c3b",
   "metadata": {
    "scrolled": true
   },
   "outputs": [
    {
     "name": "stdout",
     "output_type": "stream",
     "text": [
      "meter1_phase1\n",
      "from: 2020-12-19 00:00:27 - to: 2021-01-13 17:38:20\n",
      "\n",
      "meter1_phase2\n",
      "from: 2020-12-19 00:00:27 - to: 2020-12-20 06:30:57\n",
      "\n",
      "meter1_phase3\n",
      "from: 2020-12-19 00:00:27 - to: 2021-01-13 17:42:20\n",
      "\n",
      "people\n",
      "from: 2020-12-15 22:01:44 - to: 2021-01-11 10:25:02\n",
      "\n",
      "weather_data\n",
      "from: 3/12/2020 07:01 - to: 13/1/2021 08:00\n",
      "\n",
      "meter2_phase1\n",
      "from: 2020-12-19 00:00:28 - to: 2021-01-13 17:56:51\n",
      "\n",
      "meter2_phase3\n",
      "from: 2020-12-19 00:00:28 - to: 2020-12-27 02:31:58\n",
      "\n",
      "meter2_phase2\n",
      "from: 2020-12-19 00:00:28 - to: 2021-01-13 18:00:21\n",
      "\n",
      "weather\n",
      "from: 3/12/2020 07:01 - to: 13/1/2021 08:00\n",
      "\n"
     ]
    }
   ],
   "source": [
    "print_range_of_timeseries(dfs)"
   ]
  },
  {
   "cell_type": "markdown",
   "id": "996e9216",
   "metadata": {},
   "source": [
    "*Note that, the string date format of the weather is different from meter and people format*"
   ]
  },
  {
   "cell_type": "markdown",
   "id": "b4fcd308",
   "metadata": {},
   "source": [
    "## Is Nan Checking"
   ]
  },
  {
   "cell_type": "code",
   "execution_count": 776,
   "id": "d07d4f54",
   "metadata": {
    "scrolled": true
   },
   "outputs": [
    {
     "name": "stdout",
     "output_type": "stream",
     "text": [
      "meter1_phase1\n",
      "========\n",
      "timestamp                  False\n",
      "energy_reactive            False\n",
      "current                    False\n",
      "power_reactive             False\n",
      "energy_reactive_to_grid    False\n",
      "voltage                    False\n",
      "energy                     False\n",
      "energy_to_grid             False\n",
      "power                      False\n",
      "power_factor               False\n",
      "dtype: bool\n",
      "\n",
      "meter1_phase2\n",
      "========\n",
      "timestamp         False\n",
      "current           False\n",
      "power_reactive    False\n",
      "voltage           False\n",
      "power             False\n",
      "power_factor      False\n",
      "dtype: bool\n",
      "\n",
      "meter1_phase3\n",
      "========\n",
      "timestamp         False\n",
      "current           False\n",
      "power_reactive    False\n",
      "voltage           False\n",
      "power             False\n",
      "power_factor      False\n",
      "dtype: bool\n",
      "\n",
      "people\n",
      "========\n",
      "datetime    False\n",
      "zone1       False\n",
      "zone2       False\n",
      "zone3       False\n",
      "zone4       False\n",
      "dtype: bool\n",
      "\n",
      "weather_data\n",
      "========\n",
      "prec1m_mm     False\n",
      "prec15m_mm    False\n",
      "prec30m_mm    False\n",
      "prec1h_mm     False\n",
      "prec2h_mm     False\n",
      "prec3h_mm     False\n",
      "prec6h_mm     False\n",
      "prec12h_mm    False\n",
      "prec24h_mm    False\n",
      "wd_deg        False\n",
      "ws_km-h       False\n",
      "temp_c        False\n",
      "humi_perc     False\n",
      "prec_mm       False\n",
      "pres_hPa      False\n",
      "vis_m         False\n",
      "weather       False\n",
      "datetime      False\n",
      "dtype: bool\n",
      "\n",
      "meter2_phase1\n",
      "========\n",
      "timestamp                  False\n",
      "energy_reactive            False\n",
      "current                    False\n",
      "power_reactive             False\n",
      "energy_reactive_to_grid    False\n",
      "voltage                    False\n",
      "energy                     False\n",
      "energy_to_grid             False\n",
      "power                      False\n",
      "power_factor               False\n",
      "dtype: bool\n",
      "\n",
      "meter2_phase3\n",
      "========\n",
      "timestamp         False\n",
      "current           False\n",
      "power_reactive    False\n",
      "voltage           False\n",
      "power             False\n",
      "power_factor      False\n",
      "dtype: bool\n",
      "\n",
      "meter2_phase2\n",
      "========\n",
      "timestamp         False\n",
      "current           False\n",
      "power_reactive    False\n",
      "voltage           False\n",
      "power             False\n",
      "power_factor      False\n",
      "dtype: bool\n",
      "\n",
      "weather\n",
      "========\n",
      "temp_c        True\n",
      "humi_perc     True\n",
      "timestamp    False\n",
      "dtype: bool\n",
      "\n"
     ]
    }
   ],
   "source": [
    "for csv in csv_names:\n",
    "    print(csv, end=f\"\\n========\\n\")\n",
    "    print(dfs[csv].isna().any(), end=\"\\n\\n\")"
   ]
  },
  {
   "cell_type": "markdown",
   "id": "e0b1df60",
   "metadata": {},
   "source": [
    "**There are NaN values on weather data**"
   ]
  },
  {
   "cell_type": "code",
   "execution_count": 777,
   "id": "1cf15e68",
   "metadata": {},
   "outputs": [
    {
     "data": {
      "text/plain": [
       "temp_c       0.00846\n",
       "humi_perc    0.00846\n",
       "timestamp    0.00000\n",
       "dtype: float64"
      ]
     },
     "execution_count": 777,
     "metadata": {},
     "output_type": "execute_result"
    }
   ],
   "source": [
    "dfs['weather'].isna().sum()/len(dfs['weather'])*100"
   ]
  },
  {
   "cell_type": "markdown",
   "id": "42519b0a",
   "metadata": {},
   "source": [
    "*Only 0.00846% of the data is missing* "
   ]
  },
  {
   "cell_type": "code",
   "execution_count": 778,
   "id": "04768fae",
   "metadata": {},
   "outputs": [
    {
     "data": {
      "text/html": [
       "<div>\n",
       "<style scoped>\n",
       "    .dataframe tbody tr th:only-of-type {\n",
       "        vertical-align: middle;\n",
       "    }\n",
       "\n",
       "    .dataframe tbody tr th {\n",
       "        vertical-align: top;\n",
       "    }\n",
       "\n",
       "    .dataframe thead th {\n",
       "        text-align: right;\n",
       "    }\n",
       "</style>\n",
       "<table border=\"1\" class=\"dataframe\">\n",
       "  <thead>\n",
       "    <tr style=\"text-align: right;\">\n",
       "      <th></th>\n",
       "      <th>temp_c</th>\n",
       "      <th>humi_perc</th>\n",
       "      <th>timestamp</th>\n",
       "    </tr>\n",
       "  </thead>\n",
       "  <tbody>\n",
       "    <tr>\n",
       "      <th>8917</th>\n",
       "      <td>NaN</td>\n",
       "      <td>NaN</td>\n",
       "      <td>9/12/2020 11:38</td>\n",
       "    </tr>\n",
       "    <tr>\n",
       "      <th>8918</th>\n",
       "      <td>NaN</td>\n",
       "      <td>NaN</td>\n",
       "      <td>9/12/2020 11:39</td>\n",
       "    </tr>\n",
       "    <tr>\n",
       "      <th>8919</th>\n",
       "      <td>NaN</td>\n",
       "      <td>NaN</td>\n",
       "      <td>9/12/2020 11:40</td>\n",
       "    </tr>\n",
       "    <tr>\n",
       "      <th>8920</th>\n",
       "      <td>NaN</td>\n",
       "      <td>NaN</td>\n",
       "      <td>9/12/2020 11:41</td>\n",
       "    </tr>\n",
       "    <tr>\n",
       "      <th>8921</th>\n",
       "      <td>NaN</td>\n",
       "      <td>NaN</td>\n",
       "      <td>9/12/2020 11:42</td>\n",
       "    </tr>\n",
       "  </tbody>\n",
       "</table>\n",
       "</div>"
      ],
      "text/plain": [
       "      temp_c  humi_perc        timestamp\n",
       "8917     NaN        NaN  9/12/2020 11:38\n",
       "8918     NaN        NaN  9/12/2020 11:39\n",
       "8919     NaN        NaN  9/12/2020 11:40\n",
       "8920     NaN        NaN  9/12/2020 11:41\n",
       "8921     NaN        NaN  9/12/2020 11:42"
      ]
     },
     "execution_count": 778,
     "metadata": {},
     "output_type": "execute_result"
    }
   ],
   "source": [
    "dfs['weather'].loc[dfs['weather'].isna()['temp_c']]"
   ]
  },
  {
   "cell_type": "code",
   "execution_count": 779,
   "id": "5221fd0b",
   "metadata": {},
   "outputs": [],
   "source": [
    "selected_csv_names = ['meter1_phase1', 'meter2_phase1', 'weather', 'people']"
   ]
  },
  {
   "cell_type": "markdown",
   "id": "7b43c9ec",
   "metadata": {},
   "source": [
    "# Transform and clean the data"
   ]
  },
  {
   "cell_type": "markdown",
   "id": "f900bdc0",
   "metadata": {},
   "source": [
    "## Fill weather NA value with prev valid value"
   ]
  },
  {
   "cell_type": "code",
   "execution_count": 780,
   "id": "eb912e53",
   "metadata": {},
   "outputs": [],
   "source": [
    "# fill NA value with previous valid observation\n",
    "dfs['weather'].fillna(method='ffill', inplace=True)"
   ]
  },
  {
   "cell_type": "code",
   "execution_count": 781,
   "id": "3795f404",
   "metadata": {},
   "outputs": [
    {
     "data": {
      "text/plain": [
       "temp_c       False\n",
       "humi_perc    False\n",
       "timestamp    False\n",
       "dtype: bool"
      ]
     },
     "execution_count": 781,
     "metadata": {},
     "output_type": "execute_result"
    }
   ],
   "source": [
    "dfs['weather'].isna().any()"
   ]
  },
  {
   "cell_type": "markdown",
   "id": "2c09b6dd",
   "metadata": {},
   "source": [
    "## tranfrom string timestamp to datetime timestamp"
   ]
  },
  {
   "cell_type": "code",
   "execution_count": 782,
   "id": "4ced57e3",
   "metadata": {},
   "outputs": [],
   "source": [
    "# convert string datetime to datetime type and append to the dataframe\n",
    "for name in selected_csv_names:\n",
    "    if name == 'weather':\n",
    "        # format of the weather is different from \n",
    "        dfs[name]['_datetime'] = pd.to_datetime(dfs[name].timestamp, dayfirst=True)\n",
    "    elif name != 'people':\n",
    "        dfs[name]['_datetime'] = pd.to_datetime(dfs[name].timestamp)\n",
    "    else:\n",
    "        dfs[name]['_datetime'] = pd.to_datetime(dfs[name].datetime)"
   ]
  },
  {
   "cell_type": "code",
   "execution_count": 783,
   "id": "3669ca62",
   "metadata": {},
   "outputs": [],
   "source": [
    "def group_multilevel_ind(df: pd.DataFrame, interval: str) -> pd.DataFrame:\n",
    "    \n",
    "    target = df.copy()\n",
    "    \n",
    "    if interval == 'hourly':\n",
    "        target.index = pd.to_datetime(pd.DataFrame({\n",
    "            'year':df.index.get_level_values(0),\n",
    "            'month':df.index.get_level_values(1),\n",
    "            'day':df.index.get_level_values(2),\n",
    "            'hour':df.index.get_level_values(3),\n",
    "        }))\n",
    "    else:\n",
    "        target.index = pd.to_datetime(pd.DataFrame({\n",
    "            'year':df.index.get_level_values(0),\n",
    "            'month':df.index.get_level_values(1),\n",
    "            'day':df.index.get_level_values(2),\n",
    "        }))        \n",
    "\n",
    "    return target"
   ]
  },
  {
   "cell_type": "code",
   "execution_count": 784,
   "id": "45ad4d47",
   "metadata": {},
   "outputs": [],
   "source": [
    "def extract_to_hourly_data(name: str, dfs: t.Dict[str, pd.DataFrame]):\n",
    "    return dfs[name]\n",
    "    \n",
    "\n",
    "def transform_to_hourly_data(\n",
    "    df: pd.DataFrame,\n",
    "    fields: t.List[str]):\n",
    "        \n",
    "    # group by year month day and hour,\n",
    "    # then average the value if each grouped as a representation of that group\n",
    "    output = pd.DataFrame(\n",
    "        df[fields].groupby([\n",
    "            df._datetime.dt.year, \n",
    "            df._datetime.dt.month, \n",
    "            df._datetime.dt.day, \n",
    "            df._datetime.dt.hour]).mean())\n",
    "        \n",
    "    # group multilevel index to datetime\n",
    "    output = group_multilevel_ind(output, 'hourly')\n",
    "        \n",
    "    return output\n",
    "        \n",
    "\n",
    "def load_hourly_data(df: pd.DataFrame, name):\n",
    "    '''Load cleaned data to clean_datasets dir'''\n",
    "    df.to_csv(CLEAN_DATASETS_DIR / (name+'.csv'))\n",
    "    \n",
    "\n",
    "def etl_hourly_data(name: str, fields: str, dfs: t.Dict[str, pd.DataFrame]):\n",
    "    df = extract_to_hourly_data(name, dfs)\n",
    "    output = transform_to_hourly_data(df, fields)\n",
    "    load_hourly_data(output, name)"
   ]
  },
  {
   "cell_type": "markdown",
   "id": "ca09fecf",
   "metadata": {},
   "source": [
    "## Extract raw meter1 data, transform to 1 hour interval data and load to clean_datasets dir"
   ]
  },
  {
   "cell_type": "code",
   "execution_count": 785,
   "id": "78f7de5d",
   "metadata": {},
   "outputs": [],
   "source": [
    "etl_hourly_data('meter1_phase1', ['power'], dfs)"
   ]
  },
  {
   "cell_type": "markdown",
   "id": "6778e659",
   "metadata": {},
   "source": [
    "## Extract raw meter2 data, transform to 1 hour interval data and load to clean_datasets dir"
   ]
  },
  {
   "cell_type": "code",
   "execution_count": 786,
   "id": "c3ef96ef",
   "metadata": {},
   "outputs": [],
   "source": [
    "etl_hourly_data('meter2_phase1', ['power'], dfs)"
   ]
  },
  {
   "cell_type": "markdown",
   "id": "8520fc41",
   "metadata": {},
   "source": [
    "## Extract raw weather data, transform  1 hour interval and load to clean_datasets dir"
   ]
  },
  {
   "cell_type": "code",
   "execution_count": 787,
   "id": "2244811e",
   "metadata": {},
   "outputs": [],
   "source": [
    "etl_hourly_data('weather', ['temp_c'], dfs)"
   ]
  },
  {
   "cell_type": "markdown",
   "id": "e2e07dc9",
   "metadata": {},
   "source": [
    "## Extract raw people data transform to 1 hour interval and load to clean_datasets dir"
   ]
  },
  {
   "cell_type": "code",
   "execution_count": 788,
   "id": "ac290b7f",
   "metadata": {},
   "outputs": [],
   "source": [
    "etl_hourly_data('people', ['zone1', 'zone2', 'zone3', 'zone4'], dfs)"
   ]
  }
 ],
 "metadata": {
  "kernelspec": {
   "display_name": "Python 3",
   "language": "python",
   "name": "python3"
  },
  "language_info": {
   "codemirror_mode": {
    "name": "ipython",
    "version": 3
   },
   "file_extension": ".py",
   "mimetype": "text/x-python",
   "name": "python",
   "nbconvert_exporter": "python",
   "pygments_lexer": "ipython3",
   "version": "3.8.8"
  }
 },
 "nbformat": 4,
 "nbformat_minor": 5
}
