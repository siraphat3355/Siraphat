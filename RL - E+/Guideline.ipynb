{
 "cells": [
  {
   "cell_type": "markdown",
   "metadata": {},
   "source": [
    "# Install"
   ]
  },
  {
   "cell_type": "code",
   "execution_count": 1,
   "metadata": {},
   "outputs": [
    {
     "name": "stdout",
     "output_type": "stream",
     "text": [
      "\u001b[33mWARNING: You are using pip version 21.1.1; however, version 21.1.2 is available.\n",
      "You should consider upgrading via the '/opt/anaconda3/bin/python -m pip install --upgrade pip' command.\u001b[0m\n"
     ]
    }
   ],
   "source": [
    "!pip3 install -q opyplus"
   ]
  },
  {
   "cell_type": "markdown",
   "metadata": {},
   "source": [
    "# Simulation"
   ]
  },
  {
   "cell_type": "code",
   "execution_count": 2,
   "metadata": {},
   "outputs": [],
   "source": [
    "import os \n",
    "import opyplus as op\n",
    "import pandas as pd\n",
    "import numpy as np\n",
    "import warnings\n",
    "warnings.filterwarnings(\"ignore\")"
   ]
  },
  {
   "cell_type": "markdown",
   "metadata": {},
   "source": [
    "### Select version of EnergyPlus"
   ]
  },
  {
   "cell_type": "code",
   "execution_count": 3,
   "metadata": {},
   "outputs": [],
   "source": [
    "eplus_dir_path = op.get_eplus_base_dir_path((9, 3, 0))"
   ]
  },
  {
   "cell_type": "markdown",
   "metadata": {},
   "source": [
    "### Prepare input paths and run simulation."
   ]
  },
  {
   "cell_type": "code",
   "execution_count": 4,
   "metadata": {},
   "outputs": [
    {
     "name": "stderr",
     "output_type": "stream",
     "text": [
      "called Simulation.from_input on a simulation directory that is not empty (my-first-simulation)\n"
     ]
    }
   ],
   "source": [
    "# idf path (building model)\n",
    "idf_path = os.path.join(\n",
    "    eplus_dir_path,\n",
    "    \"ExampleFiles\",\n",
    "    \"1ZoneEvapCooler.idf\"\n",
    ")\n",
    "\n",
    "# epw path (weather)\n",
    "epw_path = os.path.join(\n",
    "    eplus_dir_path,\n",
    "    \"WeatherData\",\n",
    "    \"USA_CA_San.Francisco.Intl.AP.724940_TMY3.epw\"\n",
    ")\n",
    "\n",
    "# run simulation\n",
    "s = op.simulate(idf_path, epw_path, \"my-first-simulation\")"
   ]
  },
  {
   "cell_type": "markdown",
   "metadata": {},
   "source": [
    "### Check status, and inspect EPlus .err file."
   ]
  },
  {
   "cell_type": "code",
   "execution_count": 5,
   "metadata": {},
   "outputs": [
    {
     "name": "stdout",
     "output_type": "stream",
     "text": [
      "status: finished\n",
      "\n",
      "Eplus .err file:\n",
      "Program Version,EnergyPlus, Version 9.3.0-baff08990c, YMD=2021.06.01 15:11,\n",
      "   ** Warning ** Weather file location will be used rather than entered (IDF) Location object.\n",
      "   **   ~~~   ** ..Location object=DENVER CENTENNIAL CO USA WMO=724666\n",
      "   **   ~~~   ** ..Weather File Location=San Francisco Intl Ap CA USA TMY3 WMO#=724940\n",
      "   **   ~~~   ** ..due to location differences, Latitude difference=[2.12] degrees, Longitude difference=[17.22] degrees.\n",
      "   **   ~~~   ** ..Time Zone difference=[1.0] hour(s), Elevation difference=[99.89] percent, [1791.00] meters.\n",
      "   ** Warning ** SetUpDesignDay: Entered DesignDay Barometric Pressure=81560 differs by more than 10% from Standard Barometric Pressure=101301.\n",
      "   **   ~~~   ** ...occurs in DesignDay=DENVER CENTENNIAL ANN HTG 99.6% CONDNS DB, Standard Pressure (based on elevation) will be used.\n",
      "   ** Warning ** GetAirPathData: AirLoopHVAC=\"EVAP COOLER SYSTEM\" has no Controllers.\n",
      "   ** Warning ** SetUpDesignDay: Entered DesignDay Barometric Pressure=81560 differs by more than 10% from Standard Barometric Pressure=101301.\n",
      "   **   ~~~   ** ...occurs in DesignDay=DENVER CENTENNIAL ANN CLG 1% CONDNS DB=>MWB, Standard Pressure (based on elevation) will be used.\n",
      "   ************* Testing Individual Branch Integrity\n",
      "   ************* All Branches passed integrity testing\n",
      "   ************* Testing Individual Supply Air Path Integrity\n",
      "   ************* All Supply Air Paths passed integrity testing\n",
      "   ************* Testing Individual Return Air Path Integrity\n",
      "   ************* All Return Air Paths passed integrity testing\n",
      "   ************* No node connection errors were found.\n",
      "   ************* Beginning Simulation\n",
      "   ************* Simulation Error Summary *************\n",
      "   ************* EnergyPlus Warmup Error Summary. During Warmup: 0 Warning; 0 Severe Errors.\n",
      "   ************* EnergyPlus Sizing Error Summary. During Sizing: 0 Warning; 0 Severe Errors.\n",
      "   ************* EnergyPlus Completed Successfully-- 4 Warning; 0 Severe Errors; Elapsed Time=00hr 00min  3.24sec\n",
      "\n"
     ]
    }
   ],
   "source": [
    "print(f\"status: {s.get_status()}\\n\")\n",
    "print(f\"Eplus .err file:\\n{s.get_out_err().get_content()}\")"
   ]
  },
  {
   "cell_type": "markdown",
   "metadata": {},
   "source": [
    "### Retrieve and display outputs."
   ]
  },
  {
   "cell_type": "code",
   "execution_count": 6,
   "metadata": {},
   "outputs": [
    {
     "data": {
      "text/html": [
       "<div>\n",
       "<style scoped>\n",
       "    .dataframe tbody tr th:only-of-type {\n",
       "        vertical-align: middle;\n",
       "    }\n",
       "\n",
       "    .dataframe tbody tr th {\n",
       "        vertical-align: top;\n",
       "    }\n",
       "\n",
       "    .dataframe thead th {\n",
       "        text-align: right;\n",
       "    }\n",
       "</style>\n",
       "<table border=\"1\" class=\"dataframe\">\n",
       "  <thead>\n",
       "    <tr style=\"text-align: right;\">\n",
       "      <th></th>\n",
       "      <th>month</th>\n",
       "      <th>day</th>\n",
       "      <th>hour</th>\n",
       "      <th>minute</th>\n",
       "      <th>end_minute</th>\n",
       "      <th>dst</th>\n",
       "      <th>day_type</th>\n",
       "      <th>environment,Site Outdoor Air Drybulb Temperature</th>\n",
       "      <th>environment,Site Outdoor Air Wetbulb Temperature</th>\n",
       "      <th>environment,Site Outdoor Air Humidity Ratio</th>\n",
       "      <th>...</th>\n",
       "      <th>supply outlet node,System Node Temperature</th>\n",
       "      <th>supply outlet node,System Node Mass Flow Rate</th>\n",
       "      <th>outside air inlet node,System Node Temperature</th>\n",
       "      <th>main zone outlet node,System Node Temperature</th>\n",
       "      <th>main zone node,System Node Temperature</th>\n",
       "      <th>main zone inlet node,System Node Temperature</th>\n",
       "      <th>zone equipment inlet node,System Node Temperature</th>\n",
       "      <th>zone equipment outlet node,System Node Temperature</th>\n",
       "      <th>main zone inlet node atinlet,System Node Temperature</th>\n",
       "      <th>relief air outlet node,System Node Temperature</th>\n",
       "    </tr>\n",
       "  </thead>\n",
       "  <tbody>\n",
       "    <tr>\n",
       "      <th>2013-01-01 00:00:00</th>\n",
       "      <td>1</td>\n",
       "      <td>1</td>\n",
       "      <td>0</td>\n",
       "      <td>0</td>\n",
       "      <td>60</td>\n",
       "      <td>0</td>\n",
       "      <td>Tuesday</td>\n",
       "      <td>6.991667</td>\n",
       "      <td>5.985290</td>\n",
       "      <td>0.005329</td>\n",
       "      <td>...</td>\n",
       "      <td>20.0</td>\n",
       "      <td>0.0</td>\n",
       "      <td>6.991667</td>\n",
       "      <td>20.0</td>\n",
       "      <td>20.0</td>\n",
       "      <td>20.0</td>\n",
       "      <td>20.0</td>\n",
       "      <td>20.0</td>\n",
       "      <td>20.0</td>\n",
       "      <td>20.0</td>\n",
       "    </tr>\n",
       "    <tr>\n",
       "      <th>2013-01-01 01:00:00</th>\n",
       "      <td>1</td>\n",
       "      <td>1</td>\n",
       "      <td>1</td>\n",
       "      <td>0</td>\n",
       "      <td>60</td>\n",
       "      <td>0</td>\n",
       "      <td>Tuesday</td>\n",
       "      <td>7.200000</td>\n",
       "      <td>6.441589</td>\n",
       "      <td>0.005617</td>\n",
       "      <td>...</td>\n",
       "      <td>20.0</td>\n",
       "      <td>0.0</td>\n",
       "      <td>7.200000</td>\n",
       "      <td>20.0</td>\n",
       "      <td>20.0</td>\n",
       "      <td>20.0</td>\n",
       "      <td>20.0</td>\n",
       "      <td>20.0</td>\n",
       "      <td>20.0</td>\n",
       "      <td>20.0</td>\n",
       "    </tr>\n",
       "    <tr>\n",
       "      <th>2013-01-01 02:00:00</th>\n",
       "      <td>1</td>\n",
       "      <td>1</td>\n",
       "      <td>2</td>\n",
       "      <td>0</td>\n",
       "      <td>60</td>\n",
       "      <td>0</td>\n",
       "      <td>Tuesday</td>\n",
       "      <td>6.908333</td>\n",
       "      <td>6.114196</td>\n",
       "      <td>0.005469</td>\n",
       "      <td>...</td>\n",
       "      <td>20.0</td>\n",
       "      <td>0.0</td>\n",
       "      <td>6.908333</td>\n",
       "      <td>20.0</td>\n",
       "      <td>20.0</td>\n",
       "      <td>20.0</td>\n",
       "      <td>20.0</td>\n",
       "      <td>20.0</td>\n",
       "      <td>20.0</td>\n",
       "      <td>20.0</td>\n",
       "    </tr>\n",
       "    <tr>\n",
       "      <th>2013-01-01 03:00:00</th>\n",
       "      <td>1</td>\n",
       "      <td>1</td>\n",
       "      <td>3</td>\n",
       "      <td>0</td>\n",
       "      <td>60</td>\n",
       "      <td>0</td>\n",
       "      <td>Tuesday</td>\n",
       "      <td>6.350000</td>\n",
       "      <td>5.714319</td>\n",
       "      <td>0.005371</td>\n",
       "      <td>...</td>\n",
       "      <td>20.0</td>\n",
       "      <td>0.0</td>\n",
       "      <td>6.350000</td>\n",
       "      <td>20.0</td>\n",
       "      <td>20.0</td>\n",
       "      <td>20.0</td>\n",
       "      <td>20.0</td>\n",
       "      <td>20.0</td>\n",
       "      <td>20.0</td>\n",
       "      <td>20.0</td>\n",
       "    </tr>\n",
       "    <tr>\n",
       "      <th>2013-01-01 04:00:00</th>\n",
       "      <td>1</td>\n",
       "      <td>1</td>\n",
       "      <td>4</td>\n",
       "      <td>0</td>\n",
       "      <td>60</td>\n",
       "      <td>0</td>\n",
       "      <td>Tuesday</td>\n",
       "      <td>5.108333</td>\n",
       "      <td>4.782518</td>\n",
       "      <td>0.005143</td>\n",
       "      <td>...</td>\n",
       "      <td>20.0</td>\n",
       "      <td>0.0</td>\n",
       "      <td>5.108333</td>\n",
       "      <td>20.0</td>\n",
       "      <td>20.0</td>\n",
       "      <td>20.0</td>\n",
       "      <td>20.0</td>\n",
       "      <td>20.0</td>\n",
       "      <td>20.0</td>\n",
       "      <td>20.0</td>\n",
       "    </tr>\n",
       "  </tbody>\n",
       "</table>\n",
       "<p>5 rows × 26 columns</p>\n",
       "</div>"
      ],
      "text/plain": [
       "                     month  day  hour  minute  end_minute  dst day_type  \\\n",
       "2013-01-01 00:00:00      1    1     0       0          60    0  Tuesday   \n",
       "2013-01-01 01:00:00      1    1     1       0          60    0  Tuesday   \n",
       "2013-01-01 02:00:00      1    1     2       0          60    0  Tuesday   \n",
       "2013-01-01 03:00:00      1    1     3       0          60    0  Tuesday   \n",
       "2013-01-01 04:00:00      1    1     4       0          60    0  Tuesday   \n",
       "\n",
       "                     environment,Site Outdoor Air Drybulb Temperature  \\\n",
       "2013-01-01 00:00:00                                          6.991667   \n",
       "2013-01-01 01:00:00                                          7.200000   \n",
       "2013-01-01 02:00:00                                          6.908333   \n",
       "2013-01-01 03:00:00                                          6.350000   \n",
       "2013-01-01 04:00:00                                          5.108333   \n",
       "\n",
       "                     environment,Site Outdoor Air Wetbulb Temperature  \\\n",
       "2013-01-01 00:00:00                                          5.985290   \n",
       "2013-01-01 01:00:00                                          6.441589   \n",
       "2013-01-01 02:00:00                                          6.114196   \n",
       "2013-01-01 03:00:00                                          5.714319   \n",
       "2013-01-01 04:00:00                                          4.782518   \n",
       "\n",
       "                     environment,Site Outdoor Air Humidity Ratio  ...  \\\n",
       "2013-01-01 00:00:00                                     0.005329  ...   \n",
       "2013-01-01 01:00:00                                     0.005617  ...   \n",
       "2013-01-01 02:00:00                                     0.005469  ...   \n",
       "2013-01-01 03:00:00                                     0.005371  ...   \n",
       "2013-01-01 04:00:00                                     0.005143  ...   \n",
       "\n",
       "                     supply outlet node,System Node Temperature  \\\n",
       "2013-01-01 00:00:00                                        20.0   \n",
       "2013-01-01 01:00:00                                        20.0   \n",
       "2013-01-01 02:00:00                                        20.0   \n",
       "2013-01-01 03:00:00                                        20.0   \n",
       "2013-01-01 04:00:00                                        20.0   \n",
       "\n",
       "                     supply outlet node,System Node Mass Flow Rate  \\\n",
       "2013-01-01 00:00:00                                            0.0   \n",
       "2013-01-01 01:00:00                                            0.0   \n",
       "2013-01-01 02:00:00                                            0.0   \n",
       "2013-01-01 03:00:00                                            0.0   \n",
       "2013-01-01 04:00:00                                            0.0   \n",
       "\n",
       "                     outside air inlet node,System Node Temperature  \\\n",
       "2013-01-01 00:00:00                                        6.991667   \n",
       "2013-01-01 01:00:00                                        7.200000   \n",
       "2013-01-01 02:00:00                                        6.908333   \n",
       "2013-01-01 03:00:00                                        6.350000   \n",
       "2013-01-01 04:00:00                                        5.108333   \n",
       "\n",
       "                     main zone outlet node,System Node Temperature  \\\n",
       "2013-01-01 00:00:00                                           20.0   \n",
       "2013-01-01 01:00:00                                           20.0   \n",
       "2013-01-01 02:00:00                                           20.0   \n",
       "2013-01-01 03:00:00                                           20.0   \n",
       "2013-01-01 04:00:00                                           20.0   \n",
       "\n",
       "                     main zone node,System Node Temperature  \\\n",
       "2013-01-01 00:00:00                                    20.0   \n",
       "2013-01-01 01:00:00                                    20.0   \n",
       "2013-01-01 02:00:00                                    20.0   \n",
       "2013-01-01 03:00:00                                    20.0   \n",
       "2013-01-01 04:00:00                                    20.0   \n",
       "\n",
       "                     main zone inlet node,System Node Temperature  \\\n",
       "2013-01-01 00:00:00                                          20.0   \n",
       "2013-01-01 01:00:00                                          20.0   \n",
       "2013-01-01 02:00:00                                          20.0   \n",
       "2013-01-01 03:00:00                                          20.0   \n",
       "2013-01-01 04:00:00                                          20.0   \n",
       "\n",
       "                     zone equipment inlet node,System Node Temperature  \\\n",
       "2013-01-01 00:00:00                                               20.0   \n",
       "2013-01-01 01:00:00                                               20.0   \n",
       "2013-01-01 02:00:00                                               20.0   \n",
       "2013-01-01 03:00:00                                               20.0   \n",
       "2013-01-01 04:00:00                                               20.0   \n",
       "\n",
       "                     zone equipment outlet node,System Node Temperature  \\\n",
       "2013-01-01 00:00:00                                               20.0    \n",
       "2013-01-01 01:00:00                                               20.0    \n",
       "2013-01-01 02:00:00                                               20.0    \n",
       "2013-01-01 03:00:00                                               20.0    \n",
       "2013-01-01 04:00:00                                               20.0    \n",
       "\n",
       "                     main zone inlet node atinlet,System Node Temperature  \\\n",
       "2013-01-01 00:00:00                                               20.0      \n",
       "2013-01-01 01:00:00                                               20.0      \n",
       "2013-01-01 02:00:00                                               20.0      \n",
       "2013-01-01 03:00:00                                               20.0      \n",
       "2013-01-01 04:00:00                                               20.0      \n",
       "\n",
       "                     relief air outlet node,System Node Temperature  \n",
       "2013-01-01 00:00:00                                            20.0  \n",
       "2013-01-01 01:00:00                                            20.0  \n",
       "2013-01-01 02:00:00                                            20.0  \n",
       "2013-01-01 03:00:00                                            20.0  \n",
       "2013-01-01 04:00:00                                            20.0  \n",
       "\n",
       "[5 rows x 26 columns]"
      ]
     },
     "execution_count": 6,
     "metadata": {},
     "output_type": "execute_result"
    }
   ],
   "source": [
    "# retrieve hourly output (.eso file)\n",
    "hourly_output = s.get_out_eso()\n",
    "\n",
    "# ask for datetime index on year 2013\n",
    "hourly_output.create_datetime_index(2013)\n",
    "\n",
    "# get Pandas dataframe\n",
    "df = hourly_output.get_data()\n",
    "\n",
    "# monthly resample and display\n",
    "# print(df[[\n",
    "#     \"environment,Site Outdoor Air Drybulb Temperature\",\n",
    "#     \"main zone,Zone Mean Air Temperature\"\n",
    "# ]].resample(\"MS\").mean())\n",
    "df.head()"
   ]
  },
  {
   "cell_type": "markdown",
   "metadata": {},
   "source": [
    "## EPlus Model (idf file)"
   ]
  },
  {
   "cell_type": "markdown",
   "metadata": {},
   "source": [
    "### Load Energy Plus model."
   ]
  },
  {
   "cell_type": "code",
   "execution_count": 7,
   "metadata": {},
   "outputs": [],
   "source": [
    "# idf path\n",
    "idf_path = os.path.join(\n",
    "    eplus_dir_path,\n",
    "    \"ExampleFiles\",\n",
    "    \"1ZoneEvapCooler.idf\"\n",
    ")\n",
    "\n",
    "# load epm object\n",
    "epm = op.Epm.from_idf(idf_path)"
   ]
  },
  {
   "cell_type": "markdown",
   "metadata": {},
   "source": [
    "### Iter constructions:"
   ]
  },
  {
   "cell_type": "code",
   "execution_count": 8,
   "metadata": {},
   "outputs": [
    {
     "name": "stdout",
     "output_type": "stream",
     "text": [
      "Construction,\n",
      "    r13wall,                       ! Name\n",
      "    r13layer;                      ! Outside Layer\n",
      "Construction,\n",
      "    floor,                         ! Name\n",
      "    c5 - 4 in hw concrete;         ! Outside Layer\n",
      "Construction,\n",
      "    roof31,                        ! Name\n",
      "    r31layer;                      ! Outside Layer\n"
     ]
    }
   ],
   "source": [
    "for construction in epm.Construction:\n",
    "    print(construction)"
   ]
  },
  {
   "cell_type": "markdown",
   "metadata": {},
   "source": [
    "### Retrieve concrete material."
   ]
  },
  {
   "cell_type": "code",
   "execution_count": 9,
   "metadata": {},
   "outputs": [
    {
     "name": "stdout",
     "output_type": "stream",
     "text": [
      "Material,\n",
      "    c5 - 4 in hw concrete,         ! Name\n",
      "    mediumrough,                   ! Roughness\n",
      "    0.1014984,                     ! Thickness\n",
      "    1.729577,                      ! Conductivity\n",
      "    2242.585,                      ! Density\n",
      "    836.8,                         ! Specific Heat\n",
      "    0.9,                           ! Thermal Absorptance\n",
      "    0.65,                          ! Solar Absorptance\n",
      "    0.65;                          ! Visible Absorptance\n"
     ]
    }
   ],
   "source": [
    "concrete = epm.Material.one(\"c5 - 4 in hw concrete\")\n",
    "print(concrete)"
   ]
  },
  {
   "cell_type": "markdown",
   "metadata": {},
   "source": [
    "### Change thickness and conductivity."
   ]
  },
  {
   "cell_type": "code",
   "execution_count": 10,
   "metadata": {},
   "outputs": [
    {
     "name": "stdout",
     "output_type": "stream",
     "text": [
      "Material,\n",
      "    c5 - 4 in hw concrete,         ! Name\n",
      "    mediumrough,                   ! Roughness\n",
      "    0.2,                           ! Thickness\n",
      "    1.5,                           ! Conductivity\n",
      "    2242.585,                      ! Density\n",
      "    836.8,                         ! Specific Heat\n",
      "    0.9,                           ! Thermal Absorptance\n",
      "    0.65,                          ! Solar Absorptance\n",
      "    0.65;                          ! Visible Absorptance\n"
     ]
    }
   ],
   "source": [
    "# change thickness and conductivity\n",
    "concrete.thickness = 0.2\n",
    "concrete.conductivity = 1.5\n",
    "\n",
    "# print new values\n",
    "print(concrete)\n",
    "\n",
    "# save new idf\n",
    "epm.save(\"my-first-model.idf\")"
   ]
  },
  {
   "cell_type": "markdown",
   "metadata": {},
   "source": [
    "### Outputs (eso file)"
   ]
  },
  {
   "cell_type": "markdown",
   "metadata": {},
   "source": [
    "Connect to previous simulation and retrieve eso object."
   ]
  },
  {
   "cell_type": "code",
   "execution_count": 11,
   "metadata": {},
   "outputs": [],
   "source": [
    "s = op.Simulation(\"my-first-simulation\")\n",
    "eso = s.get_out_eso()"
   ]
  },
  {
   "cell_type": "markdown",
   "metadata": {},
   "source": [
    "### Display what is contained in eso file (environments, variable names and frequencies)."
   ]
  },
  {
   "cell_type": "code",
   "execution_count": 12,
   "metadata": {},
   "outputs": [
    {
     "name": "stdout",
     "output_type": "stream",
     "text": [
      "Standard output\n",
      "  environments\n",
      "    denver centennial ann htg 99.6% condns db (0)\n",
      "      latitude: 37.62\n",
      "      longitude: -122.4\n",
      "      timezone_offset: -8.0\n",
      "      elevation: 2.0\n",
      "    denver centennial ann clg 1% condns db=>mwb (1)\n",
      "      latitude: 37.62\n",
      "      longitude: -122.4\n",
      "      timezone_offset: -8.0\n",
      "      elevation: 2.0\n",
      "    run period 1 (2)\n",
      "      latitude: 37.62\n",
      "      longitude: -122.4\n",
      "      timezone_offset: -8.0\n",
      "      elevation: 2.0\n",
      "  variables\n",
      "    hourly\n",
      "      environment,Site Outdoor Air Drybulb Temperature (7)\n",
      "      environment,Site Outdoor Air Wetbulb Temperature (8)\n",
      "      environment,Site Outdoor Air Humidity Ratio (9)\n",
      "      environment,Site Outdoor Air Relative Humidity (10)\n",
      "      main zone,Zone Mean Air Temperature (11)\n",
      "      main zone baseboard,Baseboard Electric Power (196)\n",
      "      supply inlet node,System Node Temperature (492)\n",
      "      fan inlet node,System Node Temperature (493)\n",
      "      evap cooler inlet node,System Node Temperature (494)\n",
      "      supply outlet node,System Node Temperature (495)\n",
      "      supply outlet node,System Node Mass Flow Rate (496)\n",
      "      outside air inlet node,System Node Temperature (497)\n",
      "      main zone outlet node,System Node Temperature (498)\n",
      "      main zone node,System Node Temperature (499)\n",
      "      main zone inlet node,System Node Temperature (500)\n",
      "      zone equipment inlet node,System Node Temperature (501)\n",
      "      zone equipment outlet node,System Node Temperature (502)\n",
      "      main zone inlet node atinlet,System Node Temperature (503)\n",
      "      relief air outlet node,System Node Temperature (504)\n",
      "\n"
     ]
    }
   ],
   "source": [
    "print(eso.get_info())"
   ]
  },
  {
   "cell_type": "markdown",
   "metadata": {},
   "source": [
    "Natively, outputs don’t have a year and their indexes are not stored in datetimes (but in tuples of integers instead: month, day, hour). We transform outputs to datetime index dataframes to ease future analysis (datetimes are easy to manipulate, for example for resample operations)."
   ]
  },
  {
   "cell_type": "code",
   "execution_count": 13,
   "metadata": {},
   "outputs": [],
   "source": [
    "eso.create_datetime_index(2013)  # we indicate the year"
   ]
  },
  {
   "cell_type": "markdown",
   "metadata": {},
   "source": [
    "### Explore window design day data : display mean daily exterior and interior temperatures."
   ]
  },
  {
   "cell_type": "markdown",
   "metadata": {},
   "source": [
    "winter_design_day_df = eso.get_data(\"denver centennial ann htg 99.6% condns db\")\n",
    "winter_design_day_df[[\n",
    "    \"main zone,Zone Mean Air Temperature\",\n",
    "    \"environment,Site Outdoor Air Drybulb Temperature\"\n",
    "    ]].resample(\"D\").mean()\n"
   ]
  },
  {
   "cell_type": "markdown",
   "metadata": {},
   "source": [
    "### Explore run period data : display mean daily exterior and interior temperatures."
   ]
  },
  {
   "cell_type": "code",
   "execution_count": 14,
   "metadata": {},
   "outputs": [
    {
     "data": {
      "text/html": [
       "<div>\n",
       "<style scoped>\n",
       "    .dataframe tbody tr th:only-of-type {\n",
       "        vertical-align: middle;\n",
       "    }\n",
       "\n",
       "    .dataframe tbody tr th {\n",
       "        vertical-align: top;\n",
       "    }\n",
       "\n",
       "    .dataframe thead th {\n",
       "        text-align: right;\n",
       "    }\n",
       "</style>\n",
       "<table border=\"1\" class=\"dataframe\">\n",
       "  <thead>\n",
       "    <tr style=\"text-align: right;\">\n",
       "      <th></th>\n",
       "      <th>main zone,Zone Mean Air Temperature</th>\n",
       "      <th>environment,Site Outdoor Air Drybulb Temperature</th>\n",
       "    </tr>\n",
       "  </thead>\n",
       "  <tbody>\n",
       "    <tr>\n",
       "      <th>2013-01-01</th>\n",
       "      <td>20.058164</td>\n",
       "      <td>8.704167</td>\n",
       "    </tr>\n",
       "    <tr>\n",
       "      <th>2013-01-02</th>\n",
       "      <td>20.035524</td>\n",
       "      <td>9.857639</td>\n",
       "    </tr>\n",
       "    <tr>\n",
       "      <th>2013-01-03</th>\n",
       "      <td>20.085615</td>\n",
       "      <td>12.200000</td>\n",
       "    </tr>\n",
       "    <tr>\n",
       "      <th>2013-01-04</th>\n",
       "      <td>19.999999</td>\n",
       "      <td>8.456250</td>\n",
       "    </tr>\n",
       "    <tr>\n",
       "      <th>2013-01-05</th>\n",
       "      <td>20.000000</td>\n",
       "      <td>7.819097</td>\n",
       "    </tr>\n",
       "  </tbody>\n",
       "</table>\n",
       "</div>"
      ],
      "text/plain": [
       "            main zone,Zone Mean Air Temperature  \\\n",
       "2013-01-01                            20.058164   \n",
       "2013-01-02                            20.035524   \n",
       "2013-01-03                            20.085615   \n",
       "2013-01-04                            19.999999   \n",
       "2013-01-05                            20.000000   \n",
       "\n",
       "            environment,Site Outdoor Air Drybulb Temperature  \n",
       "2013-01-01                                          8.704167  \n",
       "2013-01-02                                          9.857639  \n",
       "2013-01-03                                         12.200000  \n",
       "2013-01-04                                          8.456250  \n",
       "2013-01-05                                          7.819097  "
      ]
     },
     "execution_count": 14,
     "metadata": {},
     "output_type": "execute_result"
    }
   ],
   "source": [
    "# default environment is the last one found, which is the run period environment in our case\n",
    "run_period_df = eso.get_data()\n",
    "\n",
    "# daily resample\n",
    "daily_df = run_period_df[[\n",
    "    \"main zone,Zone Mean Air Temperature\",\n",
    "    \"environment,Site Outdoor Air Drybulb Temperature\"\n",
    "    ]].resample(\"D\").mean()\n",
    "\n",
    "# display\n",
    "daily_df.head()  # will only display first rows of dataframe"
   ]
  },
  {
   "cell_type": "markdown",
   "metadata": {},
   "source": [
    "# Weather data (epw file)"
   ]
  },
  {
   "cell_type": "markdown",
   "metadata": {},
   "source": [
    "### Load Weather data."
   ]
  },
  {
   "cell_type": "code",
   "execution_count": 15,
   "metadata": {},
   "outputs": [],
   "source": [
    "# epw path\n",
    "epw_path = os.path.join(\n",
    "    eplus_dir_path,\n",
    "    \"WeatherData\",\n",
    "    \"USA_CA_San.Francisco.Intl.AP.724940_TMY3.epw\"\n",
    ")\n",
    "\n",
    "# load weather data object\n",
    "weather_data = op.WeatherData.from_epw(epw_path)"
   ]
  },
  {
   "cell_type": "code",
   "execution_count": 16,
   "metadata": {},
   "outputs": [
    {
     "name": "stdout",
     "output_type": "stream",
     "text": [
      "WeatherData\n",
      "\thas datetime instants: False\n",
      "\tlatitude: 37.62\n",
      "\tlongitude: -122.40\n",
      "\ttimezone_offset: -8.0\n",
      "\televation: 2.0\n",
      "\tdata period: 1999-01-01T00:00:00, 1997-12-31T23:00:00\n"
     ]
    }
   ],
   "source": [
    "print(weather_data.get_info())"
   ]
  },
  {
   "cell_type": "code",
   "execution_count": 17,
   "metadata": {},
   "outputs": [
    {
     "name": "stdout",
     "output_type": "stream",
     "text": [
      "has datetime index: True\n"
     ]
    }
   ],
   "source": [
    "weather_data.create_datetime_instants(2013)  # we indicate start year\n",
    "\n",
    "# check that operation worked\n",
    "print(f\"has datetime index: {weather_data.has_datetime_instants}\")"
   ]
  },
  {
   "cell_type": "markdown",
   "metadata": {},
   "source": [
    "### Retrieve weather series data (pandas dataframe object)."
   ]
  },
  {
   "cell_type": "code",
   "execution_count": 18,
   "metadata": {},
   "outputs": [
    {
     "name": "stdout",
     "output_type": "stream",
     "text": [
      "columns: ['Albedo', 'aerosol_opt_depth', 'atmos_pressure', 'ceiling_hgt', 'datasource', 'day', 'days_last_snow', 'dewpoint', 'difhorillum', 'difhorrad', 'dirnorillum', 'dirnorrad', 'drybulb', 'extdirrad', 'exthorrad', 'glohorillum', 'glohorrad', 'horirsky', 'hour', 'liq_precip_depth', 'liq_precip_rate', 'minute', 'month', 'opaqskycvr', 'precip_wtr', 'presweathcodes', 'presweathobs', 'relhum', 'snowdepth', 'totskycvr', 'visibility', 'winddir', 'windspd', 'year', 'zenlum']\n",
      "\n",
      "drybulb:\n",
      "2013-01-01 01:00:00    7.2\n",
      "2013-01-01 02:00:00    7.2\n",
      "2013-01-01 03:00:00    6.7\n",
      "2013-01-01 04:00:00    6.1\n",
      "2013-01-01 05:00:00    4.4\n",
      "Freq: H, Name: drybulb, dtype: float64\n"
     ]
    }
   ],
   "source": [
    "df = weather_data.get_weather_series()\n",
    "\n",
    "# print columns\n",
    "print(f\"columns: {list(sorted(df.columns))}\\n\")\n",
    "\n",
    "# print drybulb first rows\n",
    "print(\"drybulb:\")\n",
    "print(df[\"drybulb\"].head())"
   ]
  },
  {
   "cell_type": "markdown",
   "metadata": {},
   "source": [
    "### Add one degree celcius to drybulb and set new weather series."
   ]
  },
  {
   "cell_type": "code",
   "execution_count": 19,
   "metadata": {},
   "outputs": [
    {
     "name": "stdout",
     "output_type": "stream",
     "text": [
      "2013-01-01 01:00:00    8.2\n",
      "2013-01-01 02:00:00    8.2\n",
      "2013-01-01 03:00:00    7.7\n",
      "2013-01-01 04:00:00    7.1\n",
      "2013-01-01 05:00:00    5.4\n",
      "Freq: H, Name: drybulb, dtype: float64\n"
     ]
    }
   ],
   "source": [
    "# add one degree\n",
    "df[\"drybulb\"] += 1  # equivalent of df[\"drybulb\"] = df[\"drybulb\"] + 1\n",
    "\n",
    "# set new dataframe\n",
    "weather_data.set_weather_series(df)\n",
    "\n",
    "# check it worked\n",
    "print(weather_data.get_weather_series()[\"drybulb\"].head())"
   ]
  },
  {
   "cell_type": "markdown",
   "metadata": {},
   "source": [
    "### Save data in a new epw file."
   ]
  },
  {
   "cell_type": "code",
   "execution_count": 20,
   "metadata": {},
   "outputs": [],
   "source": [
    "# save new epw\n",
    "weather_data.to_epw(\"one-more-drybulb-degree.epw\")"
   ]
  },
  {
   "cell_type": "code",
   "execution_count": null,
   "metadata": {},
   "outputs": [],
   "source": []
  }
 ],
 "metadata": {
  "kernelspec": {
   "display_name": "Python 3",
   "language": "python",
   "name": "python3"
  },
  "language_info": {
   "codemirror_mode": {
    "name": "ipython",
    "version": 3
   },
   "file_extension": ".py",
   "mimetype": "text/x-python",
   "name": "python",
   "nbconvert_exporter": "python",
   "pygments_lexer": "ipython3",
   "version": "3.8.5"
  }
 },
 "nbformat": 4,
 "nbformat_minor": 4
}
