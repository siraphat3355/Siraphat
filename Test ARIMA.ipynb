{
 "cells": [
  {
   "cell_type": "code",
   "execution_count": 1,
   "id": "782ae216",
   "metadata": {},
   "outputs": [],
   "source": [
    "from dateutil.parser import parse \n",
    "import matplotlib as mpl\n",
    "import matplotlib.pyplot as plt\n",
    "import seaborn as sns\n",
    "import numpy as np\n",
    "import pandas as pd\n",
    "import os\n",
    "import warnings\n",
    "\n",
    "from statsmodels.tsa.arima.model import ARIMA\n",
    "from sklearn.metrics import mean_squared_error\n",
    "from math import sqrt\n",
    "\n",
    "warnings.filterwarnings('ignore')\n",
    "\n",
    "plt.rcParams.update({'figure.figsize': (10, 7), 'figure.dpi': 120})\n",
    "from statsmodels.tsa.arima_model import ARIMAResults"
   ]
  },
  {
   "cell_type": "code",
   "execution_count": 2,
   "id": "54180ca4",
   "metadata": {},
   "outputs": [],
   "source": [
    "_h = 20\n",
    "_d = _h*24\n",
    "_w = _d*7"
   ]
  },
  {
   "cell_type": "code",
   "execution_count": 3,
   "id": "9c90c17c",
   "metadata": {},
   "outputs": [],
   "source": [
    "series = pd.read_csv('dataset/people.csv')\n",
    "series['datetime'] = pd.to_datetime(series['datetime'])"
   ]
  },
  {
   "cell_type": "code",
   "execution_count": 4,
   "id": "4cef606c",
   "metadata": {},
   "outputs": [
    {
     "data": {
      "text/plain": [
       "Timestamp('2021-01-11 10:25:02')"
      ]
     },
     "execution_count": 4,
     "metadata": {},
     "output_type": "execute_result"
    }
   ],
   "source": [
    "Last = series['datetime'].iloc[-1]\n",
    "Last"
   ]
  },
  {
   "cell_type": "code",
   "execution_count": 5,
   "id": "5b415dff",
   "metadata": {},
   "outputs": [
    {
     "data": {
      "text/plain": [
       "Timestamp('2021-01-11 10:25:02')"
      ]
     },
     "execution_count": 5,
     "metadata": {},
     "output_type": "execute_result"
    }
   ],
   "source": [
    "Last"
   ]
  },
  {
   "cell_type": "code",
   "execution_count": 6,
   "id": "0d0dc359",
   "metadata": {},
   "outputs": [
    {
     "data": {
      "text/html": [
       "<div>\n",
       "<style scoped>\n",
       "    .dataframe tbody tr th:only-of-type {\n",
       "        vertical-align: middle;\n",
       "    }\n",
       "\n",
       "    .dataframe tbody tr th {\n",
       "        vertical-align: top;\n",
       "    }\n",
       "\n",
       "    .dataframe thead th {\n",
       "        text-align: right;\n",
       "    }\n",
       "</style>\n",
       "<table border=\"1\" class=\"dataframe\">\n",
       "  <thead>\n",
       "    <tr style=\"text-align: right;\">\n",
       "      <th></th>\n",
       "      <th>datetime</th>\n",
       "      <th>zone1</th>\n",
       "      <th>zone2</th>\n",
       "      <th>zone3</th>\n",
       "      <th>zone4</th>\n",
       "    </tr>\n",
       "  </thead>\n",
       "  <tbody>\n",
       "    <tr>\n",
       "      <th>0</th>\n",
       "      <td>2020-12-15 22:01:44</td>\n",
       "      <td>0</td>\n",
       "      <td>2</td>\n",
       "      <td>0</td>\n",
       "      <td>3</td>\n",
       "    </tr>\n",
       "    <tr>\n",
       "      <th>1</th>\n",
       "      <td>2020-12-15 22:03:32</td>\n",
       "      <td>0</td>\n",
       "      <td>0</td>\n",
       "      <td>0</td>\n",
       "      <td>3</td>\n",
       "    </tr>\n",
       "    <tr>\n",
       "      <th>2</th>\n",
       "      <td>2020-12-15 22:05:09</td>\n",
       "      <td>0</td>\n",
       "      <td>0</td>\n",
       "      <td>0</td>\n",
       "      <td>4</td>\n",
       "    </tr>\n",
       "    <tr>\n",
       "      <th>3</th>\n",
       "      <td>2020-12-15 22:06:45</td>\n",
       "      <td>0</td>\n",
       "      <td>0</td>\n",
       "      <td>0</td>\n",
       "      <td>4</td>\n",
       "    </tr>\n",
       "    <tr>\n",
       "      <th>4</th>\n",
       "      <td>2020-12-15 22:08:15</td>\n",
       "      <td>0</td>\n",
       "      <td>0</td>\n",
       "      <td>0</td>\n",
       "      <td>2</td>\n",
       "    </tr>\n",
       "  </tbody>\n",
       "</table>\n",
       "</div>"
      ],
      "text/plain": [
       "             datetime  zone1  zone2  zone3  zone4\n",
       "0 2020-12-15 22:01:44      0      2      0      3\n",
       "1 2020-12-15 22:03:32      0      0      0      3\n",
       "2 2020-12-15 22:05:09      0      0      0      4\n",
       "3 2020-12-15 22:06:45      0      0      0      4\n",
       "4 2020-12-15 22:08:15      0      0      0      2"
      ]
     },
     "execution_count": 6,
     "metadata": {},
     "output_type": "execute_result"
    }
   ],
   "source": [
    "series.head()"
   ]
  },
  {
   "cell_type": "code",
   "execution_count": 7,
   "id": "c712c5c2",
   "metadata": {},
   "outputs": [],
   "source": [
    "loaded = ARIMAResults.load('model_zone1.pkl')"
   ]
  },
  {
   "cell_type": "code",
   "execution_count": 10,
   "id": "00b995ea",
   "metadata": {},
   "outputs": [],
   "source": [
    "def Prdict(model, period, zone):\n",
    "    if(period == 'hour'):\n",
    "        time = _h\n",
    "    elif(period == 'day'):\n",
    "        time = _d\n",
    "    elif(period == 'week'):\n",
    "        time = _w*2\n",
    "        \n",
    "    new = pd.DataFrame(pd.date_range(Last, freq='5min', periods= time))\n",
    "    new.set_index(0, inplace = True)\n",
    "    ppre = model.predict(1,time)\n",
    "    ppre = ppre.reshape(-1,1)\n",
    "    new[zone] = ppre.round()\n",
    "    plt.scatter(new.index,new[zone], s= 1)"
   ]
  },
  {
   "cell_type": "code",
   "execution_count": 11,
   "id": "47c46433",
   "metadata": {},
   "outputs": [
    {
     "data": {
      "image/png": "[encoded data removed]",
      "text/plain": [
       "<Figure size 1200x840 with 1 Axes>"
      ]
     },
     "metadata": {
      "needs_background": "light"
     },
     "output_type": "display_data"
    }
   ],
   "source": [
    "Prdict(loaded, 'week', 'zone1')"
   ]
  },
  {
   "cell_type": "code",
   "execution_count": null,
   "id": "e01c5127",
   "metadata": {},
   "outputs": [],
   "source": []
  }
 ],
 "metadata": {
  "kernelspec": {
   "display_name": "Python 3",
   "language": "python",
   "name": "python3"
  },
  "language_info": {
   "codemirror_mode": {
    "name": "ipython",
    "version": 3
   },
   "file_extension": ".py",
   "mimetype": "text/x-python",
   "name": "python",
   "nbconvert_exporter": "python",
   "pygments_lexer": "ipython3",
   "version": "3.8.8"
  }
 },
 "nbformat": 4,
 "nbformat_minor": 5
}
